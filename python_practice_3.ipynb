{
  "cells": [
    {
      "cell_type": "markdown",
      "metadata": {
        "id": "qDEi2Pi-4yUC"
      },
      "source": [
        "# I. Оператори порівняння та логічні оператори. Умови."
      ]
    },
    {
      "cell_type": "markdown",
      "metadata": {
        "id": "3v8D4Dkm43Ua"
      },
      "source": [
        "1. Створіть цілочисленну змінну зі своїм щасливим або улюбленим числом. Напишіть код, який би автоматизовував наступну задачу.\n",
        "\n",
        "Якщо число парне, помножте його на 2 та виведіть результат на екран.\n",
        "\n",
        "Але якщо число непарне, помножте його на 3 та додайте 1 і виведіть на екран."
      ]
    },
    {
      "cell_type": "code",
      "execution_count": 9,
      "metadata": {
        "id": "dlVjc-Nu4bmb"
      },
      "outputs": [
        {
          "name": "stdout",
          "output_type": "stream",
          "text": [
            "16\n"
          ]
        }
      ],
      "source": [
        "fav_num = 5\n",
        "\n",
        "if fav_num % 2 == 0:\n",
        "    print(fav_num*2)\n",
        "else: \n",
        "    print (fav_num*3 +1)"
      ]
    },
    {
      "cell_type": "markdown",
      "metadata": {
        "id": "H669P0QK5BI_"
      },
      "source": [
        "2. Створіть змінну, що посилається на список. Якщо список пустий, додайте будь-який елемент у кінець списку. Якщо ж ні, то нічого не робіть."
      ]
    },
    {
      "cell_type": "code",
      "execution_count": 15,
      "metadata": {
        "id": "ecWlfra45f6E"
      },
      "outputs": [
        {
          "name": "stdout",
          "output_type": "stream",
          "text": [
            "[1, 2, 3, 4, 5]\n"
          ]
        }
      ],
      "source": [
        "my_list = [1,2,3,4,5]\n",
        "if not my_list:\n",
        "    my_list.append(6)\n",
        "\n",
        "print(my_list)"
      ]
    },
    {
      "cell_type": "markdown",
      "metadata": {
        "id": "h9Y3cMUd5h85"
      },
      "source": [
        "3. Створіть рядок зі своїм імʼям латинкою. Напишіть код, який би автоматизовував наступну задачу.\n",
        "\n",
        "Якщо в імені є літера \"а\"\n",
        " або \"i\", Виведіть на екран повідомлення \"A or I is in the name\".\n",
        "\n",
        "\n",
        "Якщо в імені є літери \"o\" та \"n\", Виведіть на екран повідомлення \"O and N is in the name\".\n",
        "\n",
        "Також якщо в імені немає літери \"о\", але є \"n\", Виведіть на екран повідомлення \"Only N is in the name\".\n",
        "\n",
        "В решті випадків виведіть на екран повідомлення \"There is no N in the name, but there might be O\".\n",
        "\n",
        "Зверніть увагу, що, наприклад, для імені \"Antonina\" буде виведено два повідомлення."
      ]
    },
    {
      "cell_type": "code",
      "execution_count": 20,
      "metadata": {
        "id": "bUH4LUx35u52"
      },
      "outputs": [
        {
          "name": "stdout",
          "output_type": "stream",
          "text": [
            "A or I is in the name\n",
            "O and N is in the name\n"
          ]
        }
      ],
      "source": [
        "my_name = 'Antonina'\n",
        "\n",
        "if 'a' in my_name or 'i' in my_name:\n",
        "    print('A or I is in the name')\n",
        "\n",
        "if  'o' in my_name and 'n' in my_name:\n",
        "    print('O and N is in the name')\n",
        "elif  'o' not in my_name and 'n' in my_name:\n",
        "    print('Only N is in the name')\n",
        "else:\n",
        "    print('There is no N in the name, but there might be O')\n"
      ]
    },
    {
      "cell_type": "markdown",
      "metadata": {
        "id": "wPCXJv4354cU"
      },
      "source": [
        "# II. Comprehensions."
      ]
    },
    {
      "cell_type": "markdown",
      "metadata": {
        "id": "jULLW5jN55Pw"
      },
      "source": [
        "4. Створіть список, використовуючи if (не if-else), range та comprehension."
      ]
    },
    {
      "cell_type": "code",
      "execution_count": 19,
      "metadata": {
        "id": "mlZalnVC6W3F"
      },
      "outputs": [
        {
          "data": {
            "text/plain": [
              "[0, 1, 2, 3, 4, 5, 6, 7, 8, 9]"
            ]
          },
          "execution_count": 19,
          "metadata": {},
          "output_type": "execute_result"
        }
      ],
      "source": [
        "my_comprehesed_list = [num for num in range(0,10)]\n",
        "my_comprehesed_list"
      ]
    },
    {
      "cell_type": "markdown",
      "metadata": {
        "id": "LqhEQ4JW6XcC"
      },
      "source": [
        "5. Створіть словник, використовуючи dict comprehension, що містить if else. Коли слід використовувати comprehensions, а коли їх слід уникати?"
      ]
    },
    {
      "cell_type": "code",
      "execution_count": 22,
      "metadata": {
        "id": "1yVaFbOs6hta"
      },
      "outputs": [
        {
          "data": {
            "text/plain": [
              "{0: 'even',\n",
              " 1: 'odd',\n",
              " 2: 'even',\n",
              " 3: 'odd',\n",
              " 4: 'even',\n",
              " 5: 'odd',\n",
              " 6: 'even',\n",
              " 7: 'odd',\n",
              " 8: 'even',\n",
              " 9: 'odd'}"
            ]
          },
          "execution_count": 22,
          "metadata": {},
          "output_type": "execute_result"
        }
      ],
      "source": [
        "numbers = range(10)\n",
        "my_dict = {n: \"even\" if n % 2 == 0 else \"odd\" for n in numbers}\n",
        "my_dict"
      ]
    },
    {
      "cell_type": "markdown",
      "metadata": {
        "id": "wbkzNhKq6hzz"
      },
      "source": [
        "Comprehensions are most useful when the logic to generate the new collection is simple enough to be expressed in a single line.\n",
        "\n",
        "Also, comprehensions can consume more memory than a generator or a loop for large inputs, as they *generate the entire output collection in memory at once*. So, for large inputs or when memory usage is a concern, it might be better to use a generator or a loop instead. "
      ]
    },
    {
      "cell_type": "markdown",
      "metadata": {
        "id": "ZlqB8G3G6lHP"
      },
      "source": [
        "6. Створіть список з рядками та запишіть його у змінну. Створіть ще один список на основі попереднього, де кожен рядок буде містити тільки три перших заглавних символи. Наприклад: ['hello', 'i', 'dont', 'care'] -> ['HEL', 'I', 'DON', 'CAR']. Використання comprehensions обовʼязкове."
      ]
    },
    {
      "cell_type": "code",
      "execution_count": 24,
      "metadata": {
        "id": "nw6rz0bR60VC"
      },
      "outputs": [
        {
          "data": {
            "text/plain": [
              "['Boh', 'Nin', 'Oks', 'Ser']"
            ]
          },
          "execution_count": 24,
          "metadata": {},
          "output_type": "execute_result"
        }
      ],
      "source": [
        "strings_list = [\"Bohdan\", \"Nina\", \"Oksana\", \"Sergiy\"]\n",
        "\n",
        "shorten_list = [name[0:3] for name in strings_list ]\n",
        "shorten_list"
      ]
    },
    {
      "cell_type": "markdown",
      "metadata": {
        "id": "Tj573IAH64Fz"
      },
      "source": [
        "# III. Цикли."
      ]
    },
    {
      "cell_type": "markdown",
      "metadata": {
        "id": "tN_33xdE65H5"
      },
      "source": [
        "7. Продемонструйте роботу циклу while. Не можна використовувати True для запуску циклу, щоб уникнути безкінечного циклу!"
      ]
    },
    {
      "cell_type": "code",
      "execution_count": 31,
      "metadata": {
        "id": "Kd9FO6yG63P5"
      },
      "outputs": [
        {
          "name": "stdout",
          "output_type": "stream",
          "text": [
            "10\n",
            "9\n",
            "8\n",
            "7\n",
            "6\n",
            "5\n",
            "4\n",
            "3\n",
            "2\n",
            "1\n"
          ]
        },
        {
          "data": {
            "text/plain": [
              "0"
            ]
          },
          "execution_count": 31,
          "metadata": {},
          "output_type": "execute_result"
        }
      ],
      "source": [
        "counter = 10\n",
        "\n",
        "while(counter != 0):\n",
        "    print(counter)\n",
        "    counter -= 1\n",
        "\n",
        "counter"
      ]
    },
    {
      "cell_type": "markdown",
      "metadata": {
        "id": "x2CmfZO-7pW0"
      },
      "source": [
        "8. Напишіть програму, яка виведе на екран непарні числа в діапазоні від 0 до 20 включно."
      ]
    },
    {
      "cell_type": "code",
      "execution_count": 35,
      "metadata": {
        "id": "aCSRYA6s7tkF"
      },
      "outputs": [
        {
          "name": "stdout",
          "output_type": "stream",
          "text": [
            "1\n",
            "3\n",
            "5\n",
            "7\n",
            "9\n",
            "11\n",
            "13\n",
            "15\n",
            "17\n",
            "19\n"
          ]
        }
      ],
      "source": [
        "for num in range(0,21):\n",
        "    if num % 2 != 0:\n",
        "        print(num)"
      ]
    },
    {
      "cell_type": "markdown",
      "metadata": {
        "id": "MDWNocZD7t_B"
      },
      "source": [
        "9. Створіть список з елементами булевого типу або None. Використовуючи цикли, отримайте в результаті список з кортежами, де перший елемент кортежу - індекс(ціле число), а другий елемент - відповідне значення з першого списку.\n",
        "\n",
        "Наприклад, [True, True, None, False] -> [(0, True), (1, True), (2, None), (3, False)]"
      ]
    },
    {
      "cell_type": "code",
      "execution_count": 38,
      "metadata": {
        "id": "0EUyjMdp7yfh"
      },
      "outputs": [
        {
          "name": "stdout",
          "output_type": "stream",
          "text": [
            "[(0, True), (1, True), (2, None), (3, False), (4, None)]\n"
          ]
        }
      ],
      "source": [
        "bool_list = [True, True, None, False, None]\n",
        "tuple_list = []\n",
        "\n",
        "# Use a for loop to iterate over the original list\n",
        "for i, val in enumerate(bool_list):\n",
        "    tuple_list.append((i, val))\n",
        "\n",
        "print(tuple_list)"
      ]
    },
    {
      "cell_type": "markdown",
      "metadata": {
        "id": "-6XUqlcG7zKs"
      },
      "source": [
        "10. Створіть словник, де ключі - назви книжок, а значення - їхня кількість у наявності в Вашій міні-бібліотеці. Бібліотека має містити щонайменше 6 книжок (6 пар значень у словнику) і щонайбільше 10 (пар значень). Використовуючи цикли, оновіть словник (не створюйте новий) так, щоби кількість книг у наявності збільшилося на 5 кожної книги. Наприклад,\n",
        "{'It': 3, 'Fault stars': 10, 'Bible': 17, 'Psychological romance': 4, 'Harry Potter': 13} -> {'It': 8, 'Fault stars': 15, 'Bible': 22, 'Psychological romance': 9, 'Harry Potter': 18}"
      ]
    },
    {
      "cell_type": "code",
      "execution_count": 41,
      "metadata": {
        "id": "Ceoj9wwb791q"
      },
      "outputs": [
        {
          "data": {
            "text/plain": [
              "{'It': 8,\n",
              " 'Fault stars': 15,\n",
              " 'Bible': 22,\n",
              " 'Psychological romance': 9,\n",
              " 'Harry Potter': 18,\n",
              " 'Man and sea': 18}"
            ]
          },
          "execution_count": 41,
          "metadata": {},
          "output_type": "execute_result"
        }
      ],
      "source": [
        "library = {'It': 3, 'Fault stars': 10, 'Bible': 17, 'Psychological romance': 4, 'Harry Potter': 13, 'Man and sea': 13}\n",
        "\n",
        "for book in library:\n",
        "    library[book] += 5\n",
        "\n",
        "library"
      ]
    },
    {
      "cell_type": "markdown",
      "metadata": {
        "id": "QLzyJM288AC7"
      },
      "source": [
        "11. Визначте цілочислену змінну n, що належить проміжку від 4 до 10 включно. Використовуючи цикли, виведіть в консоль наступний патерн.\n",
        "\n",
        "#\n",
        "##\n",
        "###\n",
        "####\n",
        "\n",
        "... #*n\n"
      ]
    },
    {
      "cell_type": "code",
      "execution_count": 47,
      "metadata": {
        "id": "KOpng87s8Duz"
      },
      "outputs": [
        {
          "name": "stdout",
          "output_type": "stream",
          "text": [
            "#\n",
            "##\n",
            "###\n",
            "####\n",
            "#####\n",
            "######\n",
            "#######\n"
          ]
        }
      ],
      "source": [
        "n = 7\n",
        "\n",
        "for i in range(1, n + 1):\n",
        "    print(\"#\" * i)\n",
        "    "
      ]
    },
    {
      "cell_type": "markdown",
      "metadata": {
        "id": "_bd-bqAT8EHn"
      },
      "source": [
        "12. Гра \"Нумо вгадай\".\n",
        "Розробіть просту гру, де користувач має вгадати випадкове число від 1 до 100. Для генерації випадкового числа використовуйте функцію random.randint(a, b) (тут a та b включно). Для отримання числа з консолі використовуйте функцію input(), результат якої обовʼязково явно приведіть до типу int.\n",
        "\n",
        "Підказка: використовуйте цикл while та умови if-else, щоб повідомити користувачу піказки (напр. \"Більше\", \"Менше\") поки користувач не вгадає. По завершенню виведіть кількість спроб, які знадобилися для вгадування."
      ]
    },
    {
      "cell_type": "code",
      "execution_count": 56,
      "metadata": {
        "id": "IK9nnxFK8Hkl"
      },
      "outputs": [
        {
          "name": "stdout",
          "output_type": "stream",
          "text": [
            "More\n",
            "More\n",
            "More\n",
            "More\n",
            "Less\n",
            "Less\n",
            "More\n",
            "You Guessed\n"
          ]
        }
      ],
      "source": [
        "import random\n",
        "\n",
        "random_num = random.randint(1, 100)\n",
        "random_num\n",
        "\n",
        "user_input = None\n",
        "\n",
        "while user_input != random_num:\n",
        "    user_input = int(input())\n",
        "    if(user_input > random_num):\n",
        "        print(\"Less\")\n",
        "    elif(user_input < random_num):\n",
        "        print(\"More\")\n",
        "    else:\n",
        "        print(\"You Guessed\")"
      ]
    },
    {
      "cell_type": "markdown",
      "metadata": {
        "id": "PXoXWb7Z8IGi"
      },
      "source": [
        "# Вітаю! Ви велика(ий) молодець, що впоралась(вся). Похваліть себе та побалуйте чимось приємним. Я Вами пишаюся."
      ]
    }
  ],
  "metadata": {
    "colab": {
      "provenance": []
    },
    "kernelspec": {
      "display_name": "Python 3",
      "name": "python3"
    },
    "language_info": {
      "codemirror_mode": {
        "name": "ipython",
        "version": 3
      },
      "file_extension": ".py",
      "mimetype": "text/x-python",
      "name": "python",
      "nbconvert_exporter": "python",
      "pygments_lexer": "ipython3",
      "version": "3.10.12"
    }
  },
  "nbformat": 4,
  "nbformat_minor": 0
}
