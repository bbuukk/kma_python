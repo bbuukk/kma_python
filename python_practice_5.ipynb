{
  "cells": [
    {
      "cell_type": "markdown",
      "metadata": {
        "id": "5qV_sehzFCTp"
      },
      "source": [
        "# I. OOP"
      ]
    },
    {
      "cell_type": "markdown",
      "metadata": {
        "id": "tx_U_hOALyfg"
      },
      "source": [
        "1. (6б). Створіть клас Animal, додайте три атрибути, один з яких має значення за замовчуванням та два методи на свій розсуд."
      ]
    },
    {
      "cell_type": "code",
      "execution_count": 1,
      "metadata": {
        "id": "-Vf895KaL88N"
      },
      "outputs": [],
      "source": [
        "class Animal:\n",
        "    def __init__(self, name, species, age=1):\n",
        "        self.name = name\n",
        "        self.species = species\n",
        "        self.age = age\n",
        "\n",
        "    def describe(self):\n",
        "        return f\"{self.name} is a {self.species} and is {self.age} years old.\"\n",
        "\n",
        "    def make_sound(self, sound=\"\"):\n",
        "        if sound:\n",
        "            return f\"{self.name} makes the sound: {sound}\"\n",
        "        else:\n",
        "            return f\"{self.name} is silent.\""
      ]
    },
    {
      "cell_type": "markdown",
      "metadata": {
        "id": "X_UlOMB0L93w"
      },
      "source": [
        "2. (2б). Створіть два обʼєкти цього класу, де один з обʼєктів створюється із дефолтним значенням атрибуту. На одному обʼєкті отримайте значення його атрибуту, а на іншому викличте один з його методів."
      ]
    },
    {
      "cell_type": "code",
      "execution_count": 5,
      "metadata": {
        "id": "7gBu0ESOMCpG"
      },
      "outputs": [
        {
          "name": "stdout",
          "output_type": "stream",
          "text": [
            "1\n",
            "Fluffy makes the sound: Meow\n"
          ]
        }
      ],
      "source": [
        "my_pet = Animal(name=\"Fluffy\", species=\"Cat\", age=3)\n",
        "my_pet2 = Animal(name=\"Muffy\", species=\"Cat\")\n",
        "\n",
        "print(my_pet2.age)\n",
        "print(my_pet.make_sound(\"Meow\"))  # Виведе: \"Fluffy makes the sound: Meow\"\n"
      ]
    },
    {
      "cell_type": "markdown",
      "metadata": {
        "id": "HoqSCZt1MHn5"
      },
      "source": [
        "3. (5б). Створіть клас, де атрибути мають різні рівні доступу. Спробуйте отримати їхні значення та опишіть результати."
      ]
    },
    {
      "cell_type": "code",
      "execution_count": 10,
      "metadata": {
        "id": "r9b3vJxBMSPV"
      },
      "outputs": [
        {
          "name": "stdout",
          "output_type": "stream",
          "text": [
            "Public attribute: I am public!\n",
            "Private attribute cannot be accessed directly.\n",
            "Protected attribute: I am protected!\n"
          ]
        }
      ],
      "source": [
        "class AccessLevels:\n",
        "    def __init__(self):\n",
        "        # Public attribute\n",
        "        self.public_attribute = \"I am public!\"\n",
        "\n",
        "        # Private attribute (starts with double underscore)\n",
        "        self.__private_attribute = \"I am private!\"\n",
        "\n",
        "        # Protected attribute (starts with single underscore)\n",
        "        self._protected_attribute = \"I am protected!\"\n",
        "\n",
        "# Create an instance of the class\n",
        "my_instance = AccessLevels()\n",
        "\n",
        "# Access public attribute\n",
        "print(f\"Public attribute: {my_instance.public_attribute}\")\n",
        "\n",
        "# Attempt to access private attribute (will raise an AttributeError)\n",
        "try:\n",
        "    print(f\"Private attribute: {my_instance.__private_attribute}\")\n",
        "except AttributeError:\n",
        "    print(\"Private attribute cannot be accessed directly.\")\n",
        "\n",
        "# Access protected attribute\n",
        "print(f\"Protected attribute: {my_instance._protected_attribute}\")"
      ]
    },
    {
      "cell_type": "markdown",
      "metadata": {
        "id": "5op2m2vgMSkZ"
      },
      "source": [
        "4. (7б). Як ви розумієте термін self? Для чого використовується метод __init __?"
      ]
    },
    {
      "cell_type": "markdown",
      "metadata": {
        "id": "DyiPqNRvMasx"
      },
      "source": [
        "Термін self в Python вказує на поточний екземпляр класу. Метод __init__ в Python є конструктором класу. "
      ]
    },
    {
      "cell_type": "markdown",
      "metadata": {
        "id": "-6X8EGfjMd2y"
      },
      "source": [
        "5. (9б). Створіть клас Фігура без атрибутів, з методом get_area для отримання площі фігури, що повертає 0 та __add __, який приймає self та other в якості аргументів, а повертає суму площин фігур self та other."
      ]
    },
    {
      "cell_type": "code",
      "execution_count": 12,
      "metadata": {
        "id": "4rvO_wYUMaEr"
      },
      "outputs": [],
      "source": [
        "class Figure:\n",
        "    def get_area(self):\n",
        "        return 0\n",
        "\n",
        "    def __add__(self, other):\n",
        "        return self.get_area() + other.get_area()"
      ]
    },
    {
      "cell_type": "markdown",
      "metadata": {
        "id": "SFcKnnv5Mo_z"
      },
      "source": [
        "6. (11б). Створіть 2 дочірніх класи від Фігури: Трикутник та Коло, які мають атрибути, необхідні для розрахунку площин. Визначте метод get_area в кожному з них так, щоби вони розраховували площу в залежності від формули для кожного типу фігури. Створіть обʼєкт класу Трикутник та обʼєкт класу Коло. Виконайте операцію суми за допомогою оператора + між ними."
      ]
    },
    {
      "cell_type": "code",
      "execution_count": 16,
      "metadata": {
        "id": "H3GVNr69Muf3"
      },
      "outputs": [
        {
          "name": "stdout",
          "output_type": "stream",
          "text": [
            "78.5\n",
            "12.0\n",
            "90.5\n"
          ]
        }
      ],
      "source": [
        "class Triangle(Figure):\n",
        "    def __init__(self, base, height):\n",
        "        self.base = base\n",
        "        self.height = height\n",
        "\n",
        "    def get_area(self):\n",
        "            return self.base * self.height / 2\n",
        "\n",
        "class Circle(Figure):\n",
        "    def __init__(self, radius):\n",
        "        self.radius = radius\n",
        "\n",
        "    def get_area(self):\n",
        "        return 3.14 * self.radius ** 2\n",
        "\n",
        "# Create instances\n",
        "triangle = Triangle(base=6, height=4)\n",
        "circle = Circle(radius=5)\n",
        "\n",
        "# Calculate total area\n",
        "print(circle.get_area())\n",
        "print(triangle.get_area())\n",
        "\n",
        "sum = circle + triangle\n",
        "print(sum)"
      ]
    },
    {
      "cell_type": "markdown",
      "metadata": {
        "id": "HCvR206YMvLK"
      },
      "source": [
        "7. (3б). Продемонструйте різницю між isinstance та issubclass."
      ]
    },
    {
      "cell_type": "code",
      "execution_count": 8,
      "metadata": {
        "id": "L_V1bBvDM0GN"
      },
      "outputs": [
        {
          "data": {
            "text/plain": [
              "(True, False, False, False, False)"
            ]
          },
          "execution_count": 8,
          "metadata": {},
          "output_type": "execute_result"
        }
      ],
      "source": [
        "class Bike:\n",
        "  pass\n",
        "\n",
        "class Vehicle(Bike):\n",
        "  pass\n",
        "\n",
        "vehicle = Vehicle()\n",
        "\n",
        "issubclass(Vehicle, Bike), issubclass(int, Bike), isinstance(bike, Vehicle), isinstance(bike, Bike), isinstance(bike, int)"
      ]
    },
    {
      "cell_type": "markdown",
      "metadata": {
        "id": "jjsaBZ-iM0Qq"
      },
      "source": [
        "8. (13б). Створіть клас BankAccount з приватними атрибутами balance та account_number. Реалізуйте методи поповнення та зняття коштів, забезпечивши належну інкапсуляцію. Підказка: використовуйте декоратори property та setter."
      ]
    },
    {
      "cell_type": "code",
      "execution_count": 11,
      "metadata": {
        "id": "xCvZ7lh8M7YA"
      },
      "outputs": [
        {
          "name": "stdout",
          "output_type": "stream",
          "text": [
            "Deposited: 1000. New balance: 1000\n",
            "Withdrew: 500. New balance: 500\n"
          ]
        }
      ],
      "source": [
        "class BankAccount:\n",
        "    def __init__(self):\n",
        "        self.__balance = 0\n",
        "        self.__account_number = None\n",
        "\n",
        "    @property\n",
        "    def balance(self):\n",
        "        return self.__balance\n",
        "\n",
        "    @balance.setter\n",
        "    def balance(self, amount):\n",
        "        if amount >= 0:\n",
        "            self.__balance = amount\n",
        "        else:\n",
        "            print(\"Invalid amount. Balance cannot be negative.\")\n",
        "\n",
        "    @property\n",
        "    def account_number(self):\n",
        "        return self.__account_number\n",
        "\n",
        "    @account_number.setter\n",
        "    def account_number(self, acc_number):\n",
        "        if isinstance(acc_number, int):\n",
        "            self.__account_number = acc_number\n",
        "        else:\n",
        "            print(\"Invalid account number. Please provide an integer.\")\n",
        "\n",
        "    def deposit(self, amount):\n",
        "        if amount > 0:\n",
        "            self.balance += amount\n",
        "            print(f\"Deposited: {amount}. New balance: {self.balance}\")\n",
        "        else:\n",
        "            print(\"Invalid deposit amount.\")\n",
        "\n",
        "    def withdraw(self, amount):\n",
        "        if amount > 0 and amount <= self.balance:\n",
        "            self.balance -= amount\n",
        "            print(f\"Withdrew: {amount}. New balance: {self.balance}\")\n",
        "        else:\n",
        "            print(\"Insufficient funds or invalid withdrawal amount.\")\n",
        "\n",
        "# Example usage\n",
        "my_account = BankAccount()\n",
        "my_account.account_number = 12345\n",
        "my_account.deposit(1000)\n",
        "my_account.withdraw(500)\n"
      ]
    },
    {
      "cell_type": "markdown",
      "metadata": {
        "id": "tIzL2SJTM8ft"
      },
      "source": [
        "9. (11б). Створіть клас Library, який містить список об'єктів типу Book. Реалізуйте методи для додавання книги, видалення книги та відображення списку книг."
      ]
    },
    {
      "cell_type": "code",
      "execution_count": 12,
      "metadata": {
        "id": "HWxfJKLtNAUZ"
      },
      "outputs": [
        {
          "name": "stdout",
          "output_type": "stream",
          "text": [
            "Added book: The Great Gatsby\n",
            "Added book: To Kill a Mockingbird\n",
            "Books in the library:\n",
            "- The Great Gatsby\n",
            "- To Kill a Mockingbird\n",
            "Removed book: The Great Gatsby\n",
            "Books in the library:\n",
            "- To Kill a Mockingbird\n"
          ]
        }
      ],
      "source": [
        "class Library:\n",
        "    def __init__(self):\n",
        "        self.books = []\n",
        "\n",
        "    def add_book(self, book):\n",
        "        self.books.append(book)\n",
        "        print(f\"Added book: {book.title}\")\n",
        "\n",
        "    def remove_book(self, book):\n",
        "        if book in self.books:\n",
        "            self.books.remove(book)\n",
        "            print(f\"Removed book: {book.title}\")\n",
        "        else:\n",
        "            print(f\"Book '{book.title}' not found in the library.\")\n",
        "\n",
        "    def display_books(self):\n",
        "        print(\"Books in the library:\")\n",
        "        for book in self.books:\n",
        "            print(f\"- {book.title}\")\n",
        "\n",
        "class Book:\n",
        "    def __init__(self, title, author):\n",
        "        self.title = title\n",
        "        self.author = author\n",
        "\n",
        "# Example usage\n",
        "book1 = Book(title=\"The Great Gatsby\", author=\"F. Scott Fitzgerald\")\n",
        "book2 = Book(title=\"To Kill a Mockingbird\", author=\"Harper Lee\")\n",
        "\n",
        "my_library = Library()\n",
        "my_library.add_book(book1)\n",
        "my_library.add_book(book2)\n",
        "my_library.display_books()\n",
        "my_library.remove_book(book1)\n",
        "my_library.display_books()\n"
      ]
    },
    {
      "cell_type": "markdown",
      "metadata": {
        "id": "lmV8pAwwNIqu"
      },
      "source": [
        "10. (13б). Створіть клас Person з атрибутами name та age. Створіть ще один клас Employee з такими атрибутами, як department та salary. Створіть клас Manager, який успадковує обидва класи Person та Employee. Продемонструйте використання множинної спадковості, створивши обʼєкт класу Manager та отримавши mro для цього класу."
      ]
    },
    {
      "cell_type": "code",
      "execution_count": 13,
      "metadata": {
        "id": "R49grKlWNPeN"
      },
      "outputs": [
        {
          "name": "stdout",
          "output_type": "stream",
          "text": [
            "Manager: John Doe, Age: 40\n",
            "Department: Sales, Salary: $80000\n",
            "MRO for Manager class: [<class '__main__.Manager'>, <class '__main__.Person'>, <class '__main__.Employee'>, <class 'object'>]\n"
          ]
        }
      ],
      "source": [
        "class Person:\n",
        "    def __init__(self, name, age):\n",
        "        self.name = name\n",
        "        self.age = age\n",
        "\n",
        "class Employee:\n",
        "    def __init__(self, department, salary):\n",
        "        self.department = department\n",
        "        self.salary = salary\n",
        "\n",
        "class Manager(Person, Employee):\n",
        "    def __init__(self, name, age, department, salary):\n",
        "        super().__init__(name, age)\n",
        "        Employee.__init__(self, department, salary)\n",
        "\n",
        "# Create an instance of Manager\n",
        "manager = Manager(name=\"John Doe\", age=40, department=\"Sales\", salary=80000)\n",
        "\n",
        "# Demonstrate multiple inheritance\n",
        "print(f\"Manager: {manager.name}, Age: {manager.age}\")\n",
        "print(f\"Department: {manager.department}, Salary: ${manager.salary}\")\n",
        "\n",
        "# Display method resolution order (MRO)\n",
        "print(f\"MRO for Manager class: {Manager.mro()}\")\n"
      ]
    },
    {
      "cell_type": "markdown",
      "metadata": {
        "id": "dIJyUiNBFG8G"
      },
      "source": [
        "# II. Iterator"
      ]
    },
    {
      "cell_type": "markdown",
      "metadata": {
        "id": "13vsm0NyKIzL"
      },
      "source": [
        "11. (4б). Визначте рядок(str) з 4ма різними за значенням символами. Створіть ітератор на основі цього рядка. Викличте 5 разів функцію next на ітераторі, 4ри перших з них огорніть у ф-цію print()."
      ]
    },
    {
      "cell_type": "code",
      "execution_count": 14,
      "metadata": {
        "id": "81ntabAkKuz-"
      },
      "outputs": [
        {
          "name": "stdout",
          "output_type": "stream",
          "text": [
            "a\n",
            "b\n",
            "c\n",
            "d\n"
          ]
        }
      ],
      "source": [
        "# Define a string with 4 different characters\n",
        "my_string = \"abcd\"\n",
        "\n",
        "# Create an iterator from the string\n",
        "my_iterator = iter(my_string)\n",
        "\n",
        "# Call next() 5 times\n",
        "for _ in range(4):\n",
        "    print(next(my_iterator))\n"
      ]
    },
    {
      "cell_type": "markdown",
      "metadata": {
        "id": "aekWHGXOLRsO"
      },
      "source": [
        "А що якщо викликати цю ж функцію на рядку?"
      ]
    },
    {
      "cell_type": "code",
      "execution_count": 15,
      "metadata": {
        "id": "mxATGsErLV1i"
      },
      "outputs": [
        {
          "name": "stdout",
          "output_type": "stream",
          "text": [
            "a\n",
            "b\n",
            "c\n",
            "d\n"
          ]
        }
      ],
      "source": [
        "my_string = \"abcd\"\n",
        "my_iterator = iter(my_string)\n",
        "\n",
        "for _ in range(4):\n",
        "    print(next(my_iterator))"
      ]
    },
    {
      "cell_type": "markdown",
      "metadata": {
        "id": "XwtMEopwJ4pH"
      },
      "source": [
        " 12. (5б). Опишіть своїми словами в одному реченні, як ви розумієте різницю між ітерабельними обʼєктами та ітераторами (можна на прикладі)."
      ]
    },
    {
      "cell_type": "markdown",
      "metadata": {
        "id": "-sHrODc3KFn8"
      },
      "source": [
        "Ітерабельні об’єкти в Python це об’єкти, які можна ітерувати (проходити по них). Вони містять дані, які можна отримати одне за одним. Ітератори, з іншого боку, це об’єкти, які ведуть облік стану ітерації та видають наступний елемент при кожному проходженні. Ітератори зберігають стан ітерації, тоді як ітерабельні об’єкти просто надають доступ до даних."
      ]
    },
    {
      "cell_type": "markdown",
      "metadata": {
        "id": "E9qJWmNbK8Gl"
      },
      "source": [
        "13. (11б). Створіть клас, що має визначений Iterator Protocol та при кожному виклику next повертає літери англійської абетки, поки вони не вичерпаються."
      ]
    },
    {
      "cell_type": "code",
      "execution_count": 16,
      "metadata": {
        "id": "cqx-g_RsLo6I"
      },
      "outputs": [
        {
          "name": "stdout",
          "output_type": "stream",
          "text": [
            "a\n",
            "b\n",
            "c\n",
            "d\n",
            "e\n",
            "f\n",
            "g\n",
            "h\n",
            "i\n",
            "j\n",
            "k\n",
            "l\n",
            "m\n",
            "n\n",
            "o\n",
            "p\n",
            "q\n",
            "r\n",
            "s\n",
            "t\n",
            "u\n",
            "v\n",
            "w\n",
            "x\n",
            "y\n",
            "z\n"
          ]
        }
      ],
      "source": [
        "class EnglishAlphabetIterator:\n",
        "    def __init__(self):\n",
        "        self.current_letter = ord('a')  # Start with 'a'\n",
        "\n",
        "    def __iter__(self):\n",
        "        return self\n",
        "\n",
        "    def __next__(self):\n",
        "        if self.current_letter <= ord('z'):\n",
        "            letter = chr(self.current_letter)\n",
        "            self.current_letter += 1\n",
        "            return letter\n",
        "        else:\n",
        "            raise StopIteration\n",
        "\n",
        "# Example usage\n",
        "alphabet_iter = EnglishAlphabetIterator()\n",
        "for _ in range(26):\n",
        "    print(next(alphabet_iter))\n"
      ]
    },
    {
      "cell_type": "markdown",
      "metadata": {
        "id": "Z3E3S_s1Fv7-"
      },
      "source": [
        "# Вітаю! Ви велика(ий) молодець, що впоралась(вся). Похваліть себе та побалуйте чимось приємним. Я Вами пишаюся."
      ]
    }
  ],
  "metadata": {
    "colab": {
      "provenance": []
    },
    "kernelspec": {
      "display_name": "Python 3",
      "name": "python3"
    },
    "language_info": {
      "codemirror_mode": {
        "name": "ipython",
        "version": 3
      },
      "file_extension": ".py",
      "mimetype": "text/x-python",
      "name": "python",
      "nbconvert_exporter": "python",
      "pygments_lexer": "ipython3",
      "version": "3.10.12"
    }
  },
  "nbformat": 4,
  "nbformat_minor": 0
}
